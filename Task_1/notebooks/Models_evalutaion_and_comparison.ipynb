{
 "cells": [
  {
   "cell_type": "markdown",
   "metadata": {},
   "source": [
    "#### In this notebook, models are compared, best model/s is/are used to predict target values. "
   ]
  },
  {
   "cell_type": "code",
   "execution_count": 1,
   "metadata": {},
   "outputs": [],
   "source": [
    "from sklearn.model_selection import cross_val_score\n",
    "from sklearn.metrics import classification_report\n",
    "from sklearn.metrics import roc_auc_score\n",
    "from sklearn.model_selection import train_test_split\n",
    "import joblib\n",
    "import os"
   ]
  },
  {
   "cell_type": "code",
   "execution_count": 2,
   "metadata": {},
   "outputs": [],
   "source": [
    "# get models form ../models/ file"
   ]
  },
  {
   "cell_type": "code",
   "execution_count": 3,
   "metadata": {},
   "outputs": [],
   "source": [
    "raw_path = \"../models/\"\n",
    "models_list = os.listdir(raw_path)\n",
    "models_path_dict = {}\n",
    "\n",
    "for model in models_list:\n",
    "    path = os.path.join(raw_path, model)\n",
    "    models_path_dict.update({model: path})"
   ]
  },
  {
   "cell_type": "code",
   "execution_count": 4,
   "metadata": {},
   "outputs": [
    {
     "data": {
      "text/plain": [
       "{'KNN': '../models/KNN',\n",
       " 'LR': '../models/LR',\n",
       " 'RFF': '../models/RFF',\n",
       " 'SVM': '../models/SVM',\n",
       " 'XGBC': '../models/XGBC'}"
      ]
     },
     "execution_count": 4,
     "metadata": {},
     "output_type": "execute_result"
    }
   ],
   "source": [
    "models_path_dict"
   ]
  },
  {
   "cell_type": "code",
   "execution_count": 5,
   "metadata": {},
   "outputs": [],
   "source": [
    "# load models and keep them in dict"
   ]
  },
  {
   "cell_type": "code",
   "execution_count": 6,
   "metadata": {},
   "outputs": [],
   "source": [
    "models_obj_dict = {}\n",
    "for model, path in models_path_dict.items():\n",
    "    model_obj = joblib.load(path)\n",
    "    models_obj_dict.update({model: model_obj})"
   ]
  },
  {
   "cell_type": "markdown",
   "metadata": {},
   "source": [
    "### Data preparation"
   ]
  },
  {
   "cell_type": "code",
   "execution_count": 7,
   "metadata": {},
   "outputs": [],
   "source": [
    "from sklearn.model_selection import train_test_split\n",
    "import pandas as pd\n",
    "\n",
    "input_data = pd.read_csv(\"../data/processed/Graduate - IRISES dataset (2019-06)_READY_TO_TRAIN.csv\", sep=\"|\")\n",
    "target_values = input_data[\"Species\"]\n",
    "predictors = input_data.drop(\"Species\", axis=1)\n",
    "X_train, X_test, y_train, y_test = train_test_split(predictors, target_values, test_size=0.30, random_state=101)"
   ]
  },
  {
   "cell_type": "markdown",
   "metadata": {},
   "source": [
    "### Models evaluation"
   ]
  },
  {
   "cell_type": "code",
   "execution_count": 8,
   "metadata": {},
   "outputs": [],
   "source": [
    "models_metrics = []\n",
    "models_names = []"
   ]
  },
  {
   "cell_type": "code",
   "execution_count": 9,
   "metadata": {},
   "outputs": [],
   "source": [
    "# Get basic metrics such as: f1, recall, precision, cross-validation and area under ROC"
   ]
  },
  {
   "cell_type": "code",
   "execution_count": 10,
   "metadata": {},
   "outputs": [],
   "source": [
    "for model_name, model in models_obj_dict.items():\n",
    "\n",
    "        predicted = model.predict(X_test)\n",
    "        predicted_p = model.predict_proba(X_test)\n",
    "        \n",
    "        report = classification_report(y_test, predicted)\n",
    "        \n",
    "        cv = cross_val_score(model, X_train, y_train, cv=5)\n",
    "        roc_auc_s = roc_auc_score(y_test, predicted_p, multi_class=\"ovo\")\n",
    "        \n",
    "        metrics = [report, cv, roc_auc_s]\n",
    "        models_metrics.append(metrics)\n",
    "        models_names.append(model_name)"
   ]
  },
  {
   "cell_type": "code",
   "execution_count": 11,
   "metadata": {},
   "outputs": [],
   "source": [
    "models_metrics_dict = dict(zip(models_names, models_metrics))"
   ]
  },
  {
   "cell_type": "markdown",
   "metadata": {},
   "source": [
    "### Models comparison"
   ]
  },
  {
   "cell_type": "code",
   "execution_count": 32,
   "metadata": {
    "scrolled": true
   },
   "outputs": [],
   "source": [
    "file = open(\"../reports/General Models Metrics.md\", \"w\")\n",
    "for model, metrics in models_metrics_dict.items():\n",
    "    file.write(\"*\"*60)\n",
    "    file.write(\"\\n{}\".format(model_name))\n",
    "    file.write(\"\\n{}\".format(metrics[0]))\n",
    "    file.write(\"\\nArea Under the ROC: {}\\n\".format(metrics[2]))\n",
    "\n",
    "file.close()"
   ]
  },
  {
   "cell_type": "markdown",
   "metadata": {},
   "source": [
    "#### Get data about distribution of cv-scores"
   ]
  },
  {
   "cell_type": "code",
   "execution_count": 13,
   "metadata": {},
   "outputs": [],
   "source": [
    "import matplotlib.pyplot as plt\n",
    "import seaborn as sns\n",
    "import numpy as np"
   ]
  },
  {
   "cell_type": "code",
   "execution_count": 14,
   "metadata": {},
   "outputs": [],
   "source": [
    "sns.set(rc={'figure.figsize':(12,9)})"
   ]
  },
  {
   "cell_type": "code",
   "execution_count": 15,
   "metadata": {},
   "outputs": [
    {
     "name": "stdout",
     "output_type": "stream",
     "text": [
      "SVM\n",
      "[0.95238095 0.95238095 1.         0.95238095 0.95      ]\n",
      "XGBC\n",
      "[1.         0.95238095 1.         0.95238095 0.9       ]\n",
      "RFF\n",
      "[1.         0.95238095 1.         0.95238095 0.9       ]\n",
      "LR\n",
      "[1.         0.95238095 1.         0.95238095 0.9       ]\n",
      "KNN\n",
      "[1.         0.95238095 1.         1.         0.95      ]\n"
     ]
    }
   ],
   "source": [
    "cv_matrix = np.zeros(shape=(5,5))\n",
    "for column, model in enumerate(models_names):\n",
    "    cv_values = models_metrics_dict.get(model)[1] # Cross validation values\n",
    "    print(model)\n",
    "    print(cv_values)\n",
    "    cv_matrix[column] = cv_values"
   ]
  },
  {
   "cell_type": "code",
   "execution_count": 16,
   "metadata": {},
   "outputs": [],
   "source": [
    "cv_matrix = cv_matrix.T"
   ]
  },
  {
   "cell_type": "code",
   "execution_count": 17,
   "metadata": {},
   "outputs": [],
   "source": [
    "cv_data = pd.DataFrame(cv_matrix, columns=models_names)"
   ]
  },
  {
   "cell_type": "code",
   "execution_count": 18,
   "metadata": {},
   "outputs": [
    {
     "data": {
      "text/html": [
       "<div>\n",
       "<style scoped>\n",
       "    .dataframe tbody tr th:only-of-type {\n",
       "        vertical-align: middle;\n",
       "    }\n",
       "\n",
       "    .dataframe tbody tr th {\n",
       "        vertical-align: top;\n",
       "    }\n",
       "\n",
       "    .dataframe thead th {\n",
       "        text-align: right;\n",
       "    }\n",
       "</style>\n",
       "<table border=\"1\" class=\"dataframe\">\n",
       "  <thead>\n",
       "    <tr style=\"text-align: right;\">\n",
       "      <th></th>\n",
       "      <th>SVM</th>\n",
       "      <th>XGBC</th>\n",
       "      <th>RFF</th>\n",
       "      <th>LR</th>\n",
       "      <th>KNN</th>\n",
       "    </tr>\n",
       "  </thead>\n",
       "  <tbody>\n",
       "    <tr>\n",
       "      <th>0</th>\n",
       "      <td>0.952381</td>\n",
       "      <td>1.000000</td>\n",
       "      <td>1.000000</td>\n",
       "      <td>1.000000</td>\n",
       "      <td>1.000000</td>\n",
       "    </tr>\n",
       "    <tr>\n",
       "      <th>1</th>\n",
       "      <td>0.952381</td>\n",
       "      <td>0.952381</td>\n",
       "      <td>0.952381</td>\n",
       "      <td>0.952381</td>\n",
       "      <td>0.952381</td>\n",
       "    </tr>\n",
       "    <tr>\n",
       "      <th>2</th>\n",
       "      <td>1.000000</td>\n",
       "      <td>1.000000</td>\n",
       "      <td>1.000000</td>\n",
       "      <td>1.000000</td>\n",
       "      <td>1.000000</td>\n",
       "    </tr>\n",
       "    <tr>\n",
       "      <th>3</th>\n",
       "      <td>0.952381</td>\n",
       "      <td>0.952381</td>\n",
       "      <td>0.952381</td>\n",
       "      <td>0.952381</td>\n",
       "      <td>1.000000</td>\n",
       "    </tr>\n",
       "    <tr>\n",
       "      <th>4</th>\n",
       "      <td>0.950000</td>\n",
       "      <td>0.900000</td>\n",
       "      <td>0.900000</td>\n",
       "      <td>0.900000</td>\n",
       "      <td>0.950000</td>\n",
       "    </tr>\n",
       "  </tbody>\n",
       "</table>\n",
       "</div>"
      ],
      "text/plain": [
       "        SVM      XGBC       RFF        LR       KNN\n",
       "0  0.952381  1.000000  1.000000  1.000000  1.000000\n",
       "1  0.952381  0.952381  0.952381  0.952381  0.952381\n",
       "2  1.000000  1.000000  1.000000  1.000000  1.000000\n",
       "3  0.952381  0.952381  0.952381  0.952381  1.000000\n",
       "4  0.950000  0.900000  0.900000  0.900000  0.950000"
      ]
     },
     "execution_count": 18,
     "metadata": {},
     "output_type": "execute_result"
    }
   ],
   "source": [
    "cv_data"
   ]
  },
  {
   "cell_type": "code",
   "execution_count": 19,
   "metadata": {},
   "outputs": [
    {
     "data": {
      "text/html": [
       "<div>\n",
       "<style scoped>\n",
       "    .dataframe tbody tr th:only-of-type {\n",
       "        vertical-align: middle;\n",
       "    }\n",
       "\n",
       "    .dataframe tbody tr th {\n",
       "        vertical-align: top;\n",
       "    }\n",
       "\n",
       "    .dataframe thead th {\n",
       "        text-align: right;\n",
       "    }\n",
       "</style>\n",
       "<table border=\"1\" class=\"dataframe\">\n",
       "  <thead>\n",
       "    <tr style=\"text-align: right;\">\n",
       "      <th></th>\n",
       "      <th>SVM</th>\n",
       "      <th>XGBC</th>\n",
       "      <th>RFF</th>\n",
       "      <th>LR</th>\n",
       "      <th>KNN</th>\n",
       "    </tr>\n",
       "  </thead>\n",
       "  <tbody>\n",
       "    <tr>\n",
       "      <th>count</th>\n",
       "      <td>5.000000</td>\n",
       "      <td>5.000000</td>\n",
       "      <td>5.000000</td>\n",
       "      <td>5.000000</td>\n",
       "      <td>5.000000</td>\n",
       "    </tr>\n",
       "    <tr>\n",
       "      <th>mean</th>\n",
       "      <td>0.961429</td>\n",
       "      <td>0.960952</td>\n",
       "      <td>0.960952</td>\n",
       "      <td>0.960952</td>\n",
       "      <td>0.980476</td>\n",
       "    </tr>\n",
       "    <tr>\n",
       "      <th>std</th>\n",
       "      <td>0.021587</td>\n",
       "      <td>0.041568</td>\n",
       "      <td>0.041568</td>\n",
       "      <td>0.041568</td>\n",
       "      <td>0.026747</td>\n",
       "    </tr>\n",
       "    <tr>\n",
       "      <th>min</th>\n",
       "      <td>0.950000</td>\n",
       "      <td>0.900000</td>\n",
       "      <td>0.900000</td>\n",
       "      <td>0.900000</td>\n",
       "      <td>0.950000</td>\n",
       "    </tr>\n",
       "    <tr>\n",
       "      <th>25%</th>\n",
       "      <td>0.952381</td>\n",
       "      <td>0.952381</td>\n",
       "      <td>0.952381</td>\n",
       "      <td>0.952381</td>\n",
       "      <td>0.952381</td>\n",
       "    </tr>\n",
       "    <tr>\n",
       "      <th>50%</th>\n",
       "      <td>0.952381</td>\n",
       "      <td>0.952381</td>\n",
       "      <td>0.952381</td>\n",
       "      <td>0.952381</td>\n",
       "      <td>1.000000</td>\n",
       "    </tr>\n",
       "    <tr>\n",
       "      <th>75%</th>\n",
       "      <td>0.952381</td>\n",
       "      <td>1.000000</td>\n",
       "      <td>1.000000</td>\n",
       "      <td>1.000000</td>\n",
       "      <td>1.000000</td>\n",
       "    </tr>\n",
       "    <tr>\n",
       "      <th>max</th>\n",
       "      <td>1.000000</td>\n",
       "      <td>1.000000</td>\n",
       "      <td>1.000000</td>\n",
       "      <td>1.000000</td>\n",
       "      <td>1.000000</td>\n",
       "    </tr>\n",
       "  </tbody>\n",
       "</table>\n",
       "</div>"
      ],
      "text/plain": [
       "            SVM      XGBC       RFF        LR       KNN\n",
       "count  5.000000  5.000000  5.000000  5.000000  5.000000\n",
       "mean   0.961429  0.960952  0.960952  0.960952  0.980476\n",
       "std    0.021587  0.041568  0.041568  0.041568  0.026747\n",
       "min    0.950000  0.900000  0.900000  0.900000  0.950000\n",
       "25%    0.952381  0.952381  0.952381  0.952381  0.952381\n",
       "50%    0.952381  0.952381  0.952381  0.952381  1.000000\n",
       "75%    0.952381  1.000000  1.000000  1.000000  1.000000\n",
       "max    1.000000  1.000000  1.000000  1.000000  1.000000"
      ]
     },
     "execution_count": 19,
     "metadata": {},
     "output_type": "execute_result"
    }
   ],
   "source": [
    "cv_data.describe()"
   ]
  },
  {
   "cell_type": "code",
   "execution_count": 20,
   "metadata": {},
   "outputs": [],
   "source": [
    "cv_data.describe().to_html(\"../reports/figures/descriptive statistics_cross_val_scores.html\")"
   ]
  },
  {
   "cell_type": "code",
   "execution_count": 21,
   "metadata": {
    "scrolled": true
   },
   "outputs": [
    {
     "data": {
      "image/png": "[encoded data removed]",
      "text/plain": [
       "<Figure size 864x648 with 1 Axes>"
      ]
     },
     "metadata": {},
     "output_type": "display_data"
    }
   ],
   "source": [
    "box_plot = sns.boxplot(data=cv_data)\n",
    "box_plot.set(xlabel=\"Model Type\", ylabel=\"Cross validation score\")\n",
    "box_plot.figure.savefig(\"../reports/figures/box_plot_cross_validation_scores.png\")"
   ]
  },
  {
   "cell_type": "markdown",
   "metadata": {},
   "source": [
    "### Test hypothesis that median/mean of all of the groups are equal, with level of significance = 0.05"
   ]
  },
  {
   "cell_type": "code",
   "execution_count": 22,
   "metadata": {},
   "outputs": [],
   "source": [
    "from scipy import stats"
   ]
  },
  {
   "cell_type": "markdown",
   "metadata": {},
   "source": [
    "#### Test normal distribution using Shapiro-Wilk Test"
   ]
  },
  {
   "cell_type": "code",
   "execution_count": 23,
   "metadata": {},
   "outputs": [
    {
     "name": "stdout",
     "output_type": "stream",
     "text": [
      "Distribution of SVM is NOT CONSISTENT with normal distribution, p-val: 0.0004962262464687228\n",
      "Distribution of XGBC is consistent with normal distribution, p-val: 0.30614763498306274\n",
      "Distribution of RFF is consistent with normal distribution, p-val: 0.30614763498306274\n",
      "Distribution of LR is consistent with normal distribution, p-val: 0.30614763498306274\n",
      "Distribution of KNN is NOT CONSISTENT with normal distribution, p-val: 0.009351502172648907\n"
     ]
    }
   ],
   "source": [
    "for model_cv in cv_data.columns:\n",
    "    p_val = stats.shapiro(cv_data[model_cv])[1]\n",
    "    if p_val <= 0.05:\n",
    "        print(\"Distribution of {} is NOT CONSISTENT with normal distribution, p-val: {}\".format(model_cv, p_val))\n",
    "    else:\n",
    "        print(\"Distribution of {} is consistent with normal distribution, p-val: {}\".format(model_cv, p_val))"
   ]
  },
  {
   "cell_type": "code",
   "execution_count": 24,
   "metadata": {},
   "outputs": [],
   "source": [
    "# Because not all distributions are consistent with the normal distribution, nonparametric tests were used"
   ]
  },
  {
   "cell_type": "markdown",
   "metadata": {},
   "source": [
    "#### Test the null hypothesis that the population median of all of the groups are equal using Kruskal-Wallis test"
   ]
  },
  {
   "cell_type": "code",
   "execution_count": 25,
   "metadata": {},
   "outputs": [],
   "source": [
    "from itertools import combinations"
   ]
  },
  {
   "cell_type": "code",
   "execution_count": 26,
   "metadata": {},
   "outputs": [],
   "source": [
    "pair_to_compare = list(combinations(cv_data.columns, 2))"
   ]
  },
  {
   "cell_type": "code",
   "execution_count": 27,
   "metadata": {},
   "outputs": [
    {
     "name": "stdout",
     "output_type": "stream",
     "text": [
      "Median of cross validation score is NO DIFFERENT between SVM x XGBC\n",
      "Median of cross validation score is NO DIFFERENT between SVM x RFF\n",
      "Median of cross validation score is NO DIFFERENT between SVM x LR\n",
      "Median of cross validation score is NO DIFFERENT between SVM x KNN\n",
      "Median of cross validation score is NO DIFFERENT between XGBC x RFF\n",
      "Median of cross validation score is NO DIFFERENT between XGBC x LR\n",
      "Median of cross validation score is NO DIFFERENT between XGBC x KNN\n",
      "Median of cross validation score is NO DIFFERENT between RFF x LR\n",
      "Median of cross validation score is NO DIFFERENT between RFF x KNN\n",
      "Median of cross validation score is NO DIFFERENT between LR x KNN\n"
     ]
    }
   ],
   "source": [
    "for model_a, model_b in pair_to_compare:\n",
    "    p_val = stats.kruskal(cv_data[model_a], cv_data[model_b])[1]\n",
    "    if p_val <= 0.05:\n",
    "        print(\"Median of cross validation score is different between {} x {}\".format(model_a, model_b))\n",
    "    else:\n",
    "        print(\"Median of cross validation score is NO DIFFERENT between {} x {}\".format(model_a, model_b))"
   ]
  }
 ],
 "metadata": {
  "kernelspec": {
   "display_name": "Python 3",
   "language": "python",
   "name": "python3"
  },
  "language_info": {
   "codemirror_mode": {
    "name": "ipython",
    "version": 3
   },
   "file_extension": ".py",
   "mimetype": "text/x-python",
   "name": "python",
   "nbconvert_exporter": "python",
   "pygments_lexer": "ipython3",
   "version": "3.6.8"
  }
 },
 "nbformat": 4,
 "nbformat_minor": 2
}
